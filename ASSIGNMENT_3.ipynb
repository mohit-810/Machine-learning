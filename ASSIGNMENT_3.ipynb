{
 "cells": [
  {
   "cell_type": "code",
   "execution_count": 1,
   "metadata": {},
   "outputs": [
    {
     "name": "stdout",
     "output_type": "stream",
     "text": [
      "Conditional probability is : 0.10185185185185185\n"
     ]
    }
   ],
   "source": [
    "\n",
    "# Question 1\n",
    "\n",
    "prob_A = 11 / 36\n",
    "prob_B = 6 / 36\n",
    "prob_AB = 2 / 36\n",
    "\n",
    "def finalProbability(prob_A, prob_B, prob_AB):\n",
    "    return (prob_A*prob_AB)/(prob_B)\n",
    "\n",
    "\n",
    "prob_BA = finalProbability(prob_A, prob_B, prob_AB)\n",
    "print('Conditional probability is : {}'.format(prob_BA))"
   ]
  },
  {
   "cell_type": "code",
   "execution_count": 2,
   "metadata": {},
   "outputs": [
    {
     "name": "stdout",
     "output_type": "stream",
     "text": [
      "Probability that the Ball was Drawn from Bag 1 is :  0.5833333333333334\n"
     ]
    }
   ],
   "source": [
    "#Question 2\n",
    "\n",
    "white1 = 4 # Bag 1\n",
    "black1 = 6 # Bag 1\n",
    "\n",
    "white2 = 4 # Bag 2\n",
    "black2 = 3 # Bag 2\n",
    "\n",
    "# P(b1|b) = P(b/b1)*P(b1) / P(b)\n",
    "# P(b) = P(b/b1)*P(b1) + P(b/b2)*P(b2) = (6/10 * 1/2) + (3/7 * 1/2)\n",
    "\n",
    "prob_B = (6/10 * 1/2) + (3/7 * 1/2)    # P(B)\n",
    "prob_B1 = 1/2                          # P(B1)\n",
    "prob_BB1 = 6/10                        # P(B/B1)\n",
    "prob_B1B = (prob_BB1 * prob_B1) / prob_B\n",
    "print(\"Probability that the Ball was Drawn from Bag 1 is : \",prob_B1B)"
   ]
  },
  {
   "cell_type": "code",
   "execution_count": 3,
   "metadata": {},
   "outputs": [
    {
     "name": "stdout",
     "output_type": "stream",
     "text": [
      "Probability that the Number is Actually 4 is :  0.28571428571428564\n"
     ]
    }
   ],
   "source": [
    "# Question 3\n",
    "\n",
    "prob_T = 2/3 # Probability that the man speaks truth\n",
    "prob_NT = 1 - prob_T # Probability that man does not speaks truth (1-T)\n",
    "prob_4T = 1 / 6 # Probability that 4 appear on dice, if the man speaks truth\n",
    "prob_4NT = 1 - prob_4T # Probability that 4 appear on dice, if man does not speak truth\n",
    "prob_T4 = (prob_T*prob_4T) / (prob_T*prob_4T + prob_NT*prob_4NT) # Probability that man speaks truth, if 4 appears on dice\n",
    "print(\"Probability that the Number is Actually 4 is : \",prob_T4)"
   ]
  },
  {
   "cell_type": "code",
   "execution_count": null,
   "metadata": {},
   "outputs": [],
   "source": []
  }
 ],
 "metadata": {
  "kernelspec": {
   "display_name": "Python 3",
   "language": "python",
   "name": "python3"
  },
  "language_info": {
   "codemirror_mode": {
    "name": "ipython",
    "version": 3
   },
   "file_extension": ".py",
   "mimetype": "text/x-python",
   "name": "python",
   "nbconvert_exporter": "python",
   "pygments_lexer": "ipython3",
   "version": "3.7.1"
  }
 },
 "nbformat": 4,
 "nbformat_minor": 2
}
